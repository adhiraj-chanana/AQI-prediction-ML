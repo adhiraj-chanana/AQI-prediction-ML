{
  "nbformat": 4,
  "nbformat_minor": 0,
  "metadata": {
    "colab": {
      "provenance": []
    },
    "kernelspec": {
      "name": "python3",
      "display_name": "Python 3"
    },
    "language_info": {
      "name": "python"
    }
  },
  "cells": [
    {
      "cell_type": "markdown",
      "source": [
        "# Importing"
      ],
      "metadata": {
        "id": "DUa2QXutwKwB"
      }
    },
    {
      "cell_type": "code",
      "execution_count": null,
      "metadata": {
        "id": "CKKXHWG2wJ2W"
      },
      "outputs": [],
      "source": [
        "import numpy as np\n",
        "import pandas as pd\n",
        "import matplotlib.pyplot as plt\n",
        "import seaborn as sns\n"
      ]
    },
    {
      "cell_type": "markdown",
      "source": [
        "# Uploading\n"
      ],
      "metadata": {
        "id": "5pOCBanCwP8_"
      }
    },
    {
      "cell_type": "code",
      "source": [
        "from google.colab import files\n",
        "df=files.upload()\n",
        "df=pd.read_csv('delhi_ppg2.csv')"
      ],
      "metadata": {
        "colab": {
          "base_uri": "https://localhost:8080/",
          "height": 74
        },
        "id": "-EZ4Q7SzxY0I",
        "outputId": "3ef20f3e-2867-4c87-e2c1-5d6120971612"
      },
      "execution_count": null,
      "outputs": [
        {
          "output_type": "display_data",
          "data": {
            "text/plain": [
              "<IPython.core.display.HTML object>"
            ],
            "text/html": [
              "\n",
              "     <input type=\"file\" id=\"files-802c2218-6c53-4377-b975-7776b729f1af\" name=\"files[]\" multiple disabled\n",
              "        style=\"border:none\" />\n",
              "     <output id=\"result-802c2218-6c53-4377-b975-7776b729f1af\">\n",
              "      Upload widget is only available when the cell has been executed in the\n",
              "      current browser session. Please rerun this cell to enable.\n",
              "      </output>\n",
              "      <script>// Copyright 2017 Google LLC\n",
              "//\n",
              "// Licensed under the Apache License, Version 2.0 (the \"License\");\n",
              "// you may not use this file except in compliance with the License.\n",
              "// You may obtain a copy of the License at\n",
              "//\n",
              "//      http://www.apache.org/licenses/LICENSE-2.0\n",
              "//\n",
              "// Unless required by applicable law or agreed to in writing, software\n",
              "// distributed under the License is distributed on an \"AS IS\" BASIS,\n",
              "// WITHOUT WARRANTIES OR CONDITIONS OF ANY KIND, either express or implied.\n",
              "// See the License for the specific language governing permissions and\n",
              "// limitations under the License.\n",
              "\n",
              "/**\n",
              " * @fileoverview Helpers for google.colab Python module.\n",
              " */\n",
              "(function(scope) {\n",
              "function span(text, styleAttributes = {}) {\n",
              "  const element = document.createElement('span');\n",
              "  element.textContent = text;\n",
              "  for (const key of Object.keys(styleAttributes)) {\n",
              "    element.style[key] = styleAttributes[key];\n",
              "  }\n",
              "  return element;\n",
              "}\n",
              "\n",
              "// Max number of bytes which will be uploaded at a time.\n",
              "const MAX_PAYLOAD_SIZE = 100 * 1024;\n",
              "\n",
              "function _uploadFiles(inputId, outputId) {\n",
              "  const steps = uploadFilesStep(inputId, outputId);\n",
              "  const outputElement = document.getElementById(outputId);\n",
              "  // Cache steps on the outputElement to make it available for the next call\n",
              "  // to uploadFilesContinue from Python.\n",
              "  outputElement.steps = steps;\n",
              "\n",
              "  return _uploadFilesContinue(outputId);\n",
              "}\n",
              "\n",
              "// This is roughly an async generator (not supported in the browser yet),\n",
              "// where there are multiple asynchronous steps and the Python side is going\n",
              "// to poll for completion of each step.\n",
              "// This uses a Promise to block the python side on completion of each step,\n",
              "// then passes the result of the previous step as the input to the next step.\n",
              "function _uploadFilesContinue(outputId) {\n",
              "  const outputElement = document.getElementById(outputId);\n",
              "  const steps = outputElement.steps;\n",
              "\n",
              "  const next = steps.next(outputElement.lastPromiseValue);\n",
              "  return Promise.resolve(next.value.promise).then((value) => {\n",
              "    // Cache the last promise value to make it available to the next\n",
              "    // step of the generator.\n",
              "    outputElement.lastPromiseValue = value;\n",
              "    return next.value.response;\n",
              "  });\n",
              "}\n",
              "\n",
              "/**\n",
              " * Generator function which is called between each async step of the upload\n",
              " * process.\n",
              " * @param {string} inputId Element ID of the input file picker element.\n",
              " * @param {string} outputId Element ID of the output display.\n",
              " * @return {!Iterable<!Object>} Iterable of next steps.\n",
              " */\n",
              "function* uploadFilesStep(inputId, outputId) {\n",
              "  const inputElement = document.getElementById(inputId);\n",
              "  inputElement.disabled = false;\n",
              "\n",
              "  const outputElement = document.getElementById(outputId);\n",
              "  outputElement.innerHTML = '';\n",
              "\n",
              "  const pickedPromise = new Promise((resolve) => {\n",
              "    inputElement.addEventListener('change', (e) => {\n",
              "      resolve(e.target.files);\n",
              "    });\n",
              "  });\n",
              "\n",
              "  const cancel = document.createElement('button');\n",
              "  inputElement.parentElement.appendChild(cancel);\n",
              "  cancel.textContent = 'Cancel upload';\n",
              "  const cancelPromise = new Promise((resolve) => {\n",
              "    cancel.onclick = () => {\n",
              "      resolve(null);\n",
              "    };\n",
              "  });\n",
              "\n",
              "  // Wait for the user to pick the files.\n",
              "  const files = yield {\n",
              "    promise: Promise.race([pickedPromise, cancelPromise]),\n",
              "    response: {\n",
              "      action: 'starting',\n",
              "    }\n",
              "  };\n",
              "\n",
              "  cancel.remove();\n",
              "\n",
              "  // Disable the input element since further picks are not allowed.\n",
              "  inputElement.disabled = true;\n",
              "\n",
              "  if (!files) {\n",
              "    return {\n",
              "      response: {\n",
              "        action: 'complete',\n",
              "      }\n",
              "    };\n",
              "  }\n",
              "\n",
              "  for (const file of files) {\n",
              "    const li = document.createElement('li');\n",
              "    li.append(span(file.name, {fontWeight: 'bold'}));\n",
              "    li.append(span(\n",
              "        `(${file.type || 'n/a'}) - ${file.size} bytes, ` +\n",
              "        `last modified: ${\n",
              "            file.lastModifiedDate ? file.lastModifiedDate.toLocaleDateString() :\n",
              "                                    'n/a'} - `));\n",
              "    const percent = span('0% done');\n",
              "    li.appendChild(percent);\n",
              "\n",
              "    outputElement.appendChild(li);\n",
              "\n",
              "    const fileDataPromise = new Promise((resolve) => {\n",
              "      const reader = new FileReader();\n",
              "      reader.onload = (e) => {\n",
              "        resolve(e.target.result);\n",
              "      };\n",
              "      reader.readAsArrayBuffer(file);\n",
              "    });\n",
              "    // Wait for the data to be ready.\n",
              "    let fileData = yield {\n",
              "      promise: fileDataPromise,\n",
              "      response: {\n",
              "        action: 'continue',\n",
              "      }\n",
              "    };\n",
              "\n",
              "    // Use a chunked sending to avoid message size limits. See b/62115660.\n",
              "    let position = 0;\n",
              "    do {\n",
              "      const length = Math.min(fileData.byteLength - position, MAX_PAYLOAD_SIZE);\n",
              "      const chunk = new Uint8Array(fileData, position, length);\n",
              "      position += length;\n",
              "\n",
              "      const base64 = btoa(String.fromCharCode.apply(null, chunk));\n",
              "      yield {\n",
              "        response: {\n",
              "          action: 'append',\n",
              "          file: file.name,\n",
              "          data: base64,\n",
              "        },\n",
              "      };\n",
              "\n",
              "      let percentDone = fileData.byteLength === 0 ?\n",
              "          100 :\n",
              "          Math.round((position / fileData.byteLength) * 100);\n",
              "      percent.textContent = `${percentDone}% done`;\n",
              "\n",
              "    } while (position < fileData.byteLength);\n",
              "  }\n",
              "\n",
              "  // All done.\n",
              "  yield {\n",
              "    response: {\n",
              "      action: 'complete',\n",
              "    }\n",
              "  };\n",
              "}\n",
              "\n",
              "scope.google = scope.google || {};\n",
              "scope.google.colab = scope.google.colab || {};\n",
              "scope.google.colab._files = {\n",
              "  _uploadFiles,\n",
              "  _uploadFilesContinue,\n",
              "};\n",
              "})(self);\n",
              "</script> "
            ]
          },
          "metadata": {}
        },
        {
          "output_type": "stream",
          "name": "stdout",
          "text": [
            "Saving delhi_ppg2.csv to delhi_ppg2.csv\n"
          ]
        }
      ]
    },
    {
      "cell_type": "code",
      "source": [
        ""
      ],
      "metadata": {
        "id": "Nu2269QHosPb"
      },
      "execution_count": null,
      "outputs": []
    },
    {
      "cell_type": "code",
      "source": [
        "df.info()"
      ],
      "metadata": {
        "colab": {
          "base_uri": "https://localhost:8080/"
        },
        "id": "6Fk7Lriz6CdH",
        "outputId": "daef4b49-6808-41e6-c84e-4b9d771d6431"
      },
      "execution_count": null,
      "outputs": [
        {
          "output_type": "stream",
          "name": "stdout",
          "text": [
            "<class 'pandas.core.frame.DataFrame'>\n",
            "RangeIndex: 65 entries, 0 to 64\n",
            "Data columns (total 16 columns):\n",
            " #   Column     Non-Null Count  Dtype  \n",
            "---  ------     --------------  -----  \n",
            " 0   city       65 non-null     object \n",
            " 1   site_name  65 non-null     object \n",
            " 2   state      65 non-null     object \n",
            " 3   to_date    65 non-null     object \n",
            " 4   to_time    65 non-null     object \n",
            " 5   from_date  65 non-null     object \n",
            " 6   from_time  65 non-null     object \n",
            " 7   pm25       65 non-null     float64\n",
            " 8   pm10       65 non-null     float64\n",
            " 9   no2        65 non-null     float64\n",
            " 10  nh3        65 non-null     float64\n",
            " 11  so2        65 non-null     float64\n",
            " 12  co         65 non-null     float64\n",
            " 13  o3         65 non-null     float64\n",
            " 14  at         65 non-null     float64\n",
            " 15  time       65 non-null     object \n",
            "dtypes: float64(8), object(8)\n",
            "memory usage: 8.2+ KB\n"
          ]
        }
      ]
    },
    {
      "cell_type": "code",
      "source": [
        "\n",
        "df.head()"
      ],
      "metadata": {
        "colab": {
          "base_uri": "https://localhost:8080/",
          "height": 206
        },
        "id": "m4zORsYCOIgg",
        "outputId": "95600c9e-a6f1-4d36-d498-779efa22e996"
      },
      "execution_count": null,
      "outputs": [
        {
          "output_type": "execute_result",
          "data": {
            "text/plain": [
              "    city                 site_name  state     to_date   to_time   from_date  \\\n",
              "0  Delhi  Patparganj, Delhi - DPCC  Delhi  01-06-2022  04:00:00  01-06-2022   \n",
              "1  Delhi  Patparganj, Delhi - DPCC  Delhi  01-06-2022  08:00:00  01-06-2022   \n",
              "2  Delhi  Patparganj, Delhi - DPCC  Delhi  01-06-2022  12:00:00  01-06-2022   \n",
              "3  Delhi  Patparganj, Delhi - DPCC  Delhi  01-06-2022  16:00:00  01-06-2022   \n",
              "4  Delhi  Patparganj, Delhi - DPCC  Delhi  01-06-2022  20:00:00  01-06-2022   \n",
              "\n",
              "  from_time    pm25    pm10     no2    nh3    so2    co      o3     at  \\\n",
              "0  00:00:00  152.81  484.75  130.42  51.87   8.26  3.15   75.56  31.59   \n",
              "1  04:00:00  127.25  376.31  107.92  64.07  15.98  0.71   15.90  31.92   \n",
              "2  08:00:00  104.38  327.38   73.49  72.41  17.20  0.05   92.30  36.02   \n",
              "3  12:00:00   44.44  188.38   21.68  55.05   5.99  1.30  163.49  37.33   \n",
              "4  16:00:00   47.50  198.50   56.06  33.14  11.22  1.66   83.58  35.56   \n",
              "\n",
              "                  time  \n",
              "0  2022-06-01 00:00:00  \n",
              "1  2022-06-01 04:00:00  \n",
              "2  2022-06-01 08:00:00  \n",
              "3  2022-06-01 12:00:00  \n",
              "4  2022-06-01 16:00:00  "
            ],
            "text/html": [
              "\n",
              "  <div id=\"df-9191e39c-12d1-44f4-8661-cd8e166e5309\">\n",
              "    <div class=\"colab-df-container\">\n",
              "      <div>\n",
              "<style scoped>\n",
              "    .dataframe tbody tr th:only-of-type {\n",
              "        vertical-align: middle;\n",
              "    }\n",
              "\n",
              "    .dataframe tbody tr th {\n",
              "        vertical-align: top;\n",
              "    }\n",
              "\n",
              "    .dataframe thead th {\n",
              "        text-align: right;\n",
              "    }\n",
              "</style>\n",
              "<table border=\"1\" class=\"dataframe\">\n",
              "  <thead>\n",
              "    <tr style=\"text-align: right;\">\n",
              "      <th></th>\n",
              "      <th>city</th>\n",
              "      <th>site_name</th>\n",
              "      <th>state</th>\n",
              "      <th>to_date</th>\n",
              "      <th>to_time</th>\n",
              "      <th>from_date</th>\n",
              "      <th>from_time</th>\n",
              "      <th>pm25</th>\n",
              "      <th>pm10</th>\n",
              "      <th>no2</th>\n",
              "      <th>nh3</th>\n",
              "      <th>so2</th>\n",
              "      <th>co</th>\n",
              "      <th>o3</th>\n",
              "      <th>at</th>\n",
              "      <th>time</th>\n",
              "    </tr>\n",
              "  </thead>\n",
              "  <tbody>\n",
              "    <tr>\n",
              "      <th>0</th>\n",
              "      <td>Delhi</td>\n",
              "      <td>Patparganj, Delhi - DPCC</td>\n",
              "      <td>Delhi</td>\n",
              "      <td>01-06-2022</td>\n",
              "      <td>04:00:00</td>\n",
              "      <td>01-06-2022</td>\n",
              "      <td>00:00:00</td>\n",
              "      <td>152.81</td>\n",
              "      <td>484.75</td>\n",
              "      <td>130.42</td>\n",
              "      <td>51.87</td>\n",
              "      <td>8.26</td>\n",
              "      <td>3.15</td>\n",
              "      <td>75.56</td>\n",
              "      <td>31.59</td>\n",
              "      <td>2022-06-01 00:00:00</td>\n",
              "    </tr>\n",
              "    <tr>\n",
              "      <th>1</th>\n",
              "      <td>Delhi</td>\n",
              "      <td>Patparganj, Delhi - DPCC</td>\n",
              "      <td>Delhi</td>\n",
              "      <td>01-06-2022</td>\n",
              "      <td>08:00:00</td>\n",
              "      <td>01-06-2022</td>\n",
              "      <td>04:00:00</td>\n",
              "      <td>127.25</td>\n",
              "      <td>376.31</td>\n",
              "      <td>107.92</td>\n",
              "      <td>64.07</td>\n",
              "      <td>15.98</td>\n",
              "      <td>0.71</td>\n",
              "      <td>15.90</td>\n",
              "      <td>31.92</td>\n",
              "      <td>2022-06-01 04:00:00</td>\n",
              "    </tr>\n",
              "    <tr>\n",
              "      <th>2</th>\n",
              "      <td>Delhi</td>\n",
              "      <td>Patparganj, Delhi - DPCC</td>\n",
              "      <td>Delhi</td>\n",
              "      <td>01-06-2022</td>\n",
              "      <td>12:00:00</td>\n",
              "      <td>01-06-2022</td>\n",
              "      <td>08:00:00</td>\n",
              "      <td>104.38</td>\n",
              "      <td>327.38</td>\n",
              "      <td>73.49</td>\n",
              "      <td>72.41</td>\n",
              "      <td>17.20</td>\n",
              "      <td>0.05</td>\n",
              "      <td>92.30</td>\n",
              "      <td>36.02</td>\n",
              "      <td>2022-06-01 08:00:00</td>\n",
              "    </tr>\n",
              "    <tr>\n",
              "      <th>3</th>\n",
              "      <td>Delhi</td>\n",
              "      <td>Patparganj, Delhi - DPCC</td>\n",
              "      <td>Delhi</td>\n",
              "      <td>01-06-2022</td>\n",
              "      <td>16:00:00</td>\n",
              "      <td>01-06-2022</td>\n",
              "      <td>12:00:00</td>\n",
              "      <td>44.44</td>\n",
              "      <td>188.38</td>\n",
              "      <td>21.68</td>\n",
              "      <td>55.05</td>\n",
              "      <td>5.99</td>\n",
              "      <td>1.30</td>\n",
              "      <td>163.49</td>\n",
              "      <td>37.33</td>\n",
              "      <td>2022-06-01 12:00:00</td>\n",
              "    </tr>\n",
              "    <tr>\n",
              "      <th>4</th>\n",
              "      <td>Delhi</td>\n",
              "      <td>Patparganj, Delhi - DPCC</td>\n",
              "      <td>Delhi</td>\n",
              "      <td>01-06-2022</td>\n",
              "      <td>20:00:00</td>\n",
              "      <td>01-06-2022</td>\n",
              "      <td>16:00:00</td>\n",
              "      <td>47.50</td>\n",
              "      <td>198.50</td>\n",
              "      <td>56.06</td>\n",
              "      <td>33.14</td>\n",
              "      <td>11.22</td>\n",
              "      <td>1.66</td>\n",
              "      <td>83.58</td>\n",
              "      <td>35.56</td>\n",
              "      <td>2022-06-01 16:00:00</td>\n",
              "    </tr>\n",
              "  </tbody>\n",
              "</table>\n",
              "</div>\n",
              "      <button class=\"colab-df-convert\" onclick=\"convertToInteractive('df-9191e39c-12d1-44f4-8661-cd8e166e5309')\"\n",
              "              title=\"Convert this dataframe to an interactive table.\"\n",
              "              style=\"display:none;\">\n",
              "        \n",
              "  <svg xmlns=\"http://www.w3.org/2000/svg\" height=\"24px\"viewBox=\"0 0 24 24\"\n",
              "       width=\"24px\">\n",
              "    <path d=\"M0 0h24v24H0V0z\" fill=\"none\"/>\n",
              "    <path d=\"M18.56 5.44l.94 2.06.94-2.06 2.06-.94-2.06-.94-.94-2.06-.94 2.06-2.06.94zm-11 1L8.5 8.5l.94-2.06 2.06-.94-2.06-.94L8.5 2.5l-.94 2.06-2.06.94zm10 10l.94 2.06.94-2.06 2.06-.94-2.06-.94-.94-2.06-.94 2.06-2.06.94z\"/><path d=\"M17.41 7.96l-1.37-1.37c-.4-.4-.92-.59-1.43-.59-.52 0-1.04.2-1.43.59L10.3 9.45l-7.72 7.72c-.78.78-.78 2.05 0 2.83L4 21.41c.39.39.9.59 1.41.59.51 0 1.02-.2 1.41-.59l7.78-7.78 2.81-2.81c.8-.78.8-2.07 0-2.86zM5.41 20L4 18.59l7.72-7.72 1.47 1.35L5.41 20z\"/>\n",
              "  </svg>\n",
              "      </button>\n",
              "      \n",
              "  <style>\n",
              "    .colab-df-container {\n",
              "      display:flex;\n",
              "      flex-wrap:wrap;\n",
              "      gap: 12px;\n",
              "    }\n",
              "\n",
              "    .colab-df-convert {\n",
              "      background-color: #E8F0FE;\n",
              "      border: none;\n",
              "      border-radius: 50%;\n",
              "      cursor: pointer;\n",
              "      display: none;\n",
              "      fill: #1967D2;\n",
              "      height: 32px;\n",
              "      padding: 0 0 0 0;\n",
              "      width: 32px;\n",
              "    }\n",
              "\n",
              "    .colab-df-convert:hover {\n",
              "      background-color: #E2EBFA;\n",
              "      box-shadow: 0px 1px 2px rgba(60, 64, 67, 0.3), 0px 1px 3px 1px rgba(60, 64, 67, 0.15);\n",
              "      fill: #174EA6;\n",
              "    }\n",
              "\n",
              "    [theme=dark] .colab-df-convert {\n",
              "      background-color: #3B4455;\n",
              "      fill: #D2E3FC;\n",
              "    }\n",
              "\n",
              "    [theme=dark] .colab-df-convert:hover {\n",
              "      background-color: #434B5C;\n",
              "      box-shadow: 0px 1px 3px 1px rgba(0, 0, 0, 0.15);\n",
              "      filter: drop-shadow(0px 1px 2px rgba(0, 0, 0, 0.3));\n",
              "      fill: #FFFFFF;\n",
              "    }\n",
              "  </style>\n",
              "\n",
              "      <script>\n",
              "        const buttonEl =\n",
              "          document.querySelector('#df-9191e39c-12d1-44f4-8661-cd8e166e5309 button.colab-df-convert');\n",
              "        buttonEl.style.display =\n",
              "          google.colab.kernel.accessAllowed ? 'block' : 'none';\n",
              "\n",
              "        async function convertToInteractive(key) {\n",
              "          const element = document.querySelector('#df-9191e39c-12d1-44f4-8661-cd8e166e5309');\n",
              "          const dataTable =\n",
              "            await google.colab.kernel.invokeFunction('convertToInteractive',\n",
              "                                                     [key], {});\n",
              "          if (!dataTable) return;\n",
              "\n",
              "          const docLinkHtml = 'Like what you see? Visit the ' +\n",
              "            '<a target=\"_blank\" href=https://colab.research.google.com/notebooks/data_table.ipynb>data table notebook</a>'\n",
              "            + ' to learn more about interactive tables.';\n",
              "          element.innerHTML = '';\n",
              "          dataTable['output_type'] = 'display_data';\n",
              "          await google.colab.output.renderOutput(dataTable, element);\n",
              "          const docLink = document.createElement('div');\n",
              "          docLink.innerHTML = docLinkHtml;\n",
              "          element.appendChild(docLink);\n",
              "        }\n",
              "      </script>\n",
              "    </div>\n",
              "  </div>\n",
              "  "
            ]
          },
          "metadata": {},
          "execution_count": 4
        }
      ]
    },
    {
      "cell_type": "code",
      "source": [
        "df[\"time\"]=pd.to_datetime(df[\"time\"], format='%Y/%m/%d %H:%M:%S')"
      ],
      "metadata": {
        "id": "hVenNdDQ6Xdv"
      },
      "execution_count": null,
      "outputs": []
    },
    {
      "cell_type": "code",
      "source": [
        "!pip install --upgrade pandas"
      ],
      "metadata": {
        "colab": {
          "base_uri": "https://localhost:8080/"
        },
        "id": "dptwV1xgvKid",
        "outputId": "cf5c4da6-8d09-41a1-e50b-7686c370aef5"
      },
      "execution_count": null,
      "outputs": [
        {
          "output_type": "stream",
          "name": "stdout",
          "text": [
            "Looking in indexes: https://pypi.org/simple, https://us-python.pkg.dev/colab-wheels/public/simple/\n",
            "Requirement already satisfied: pandas in /usr/local/lib/python3.7/dist-packages (1.3.5)\n",
            "Requirement already satisfied: numpy>=1.17.3 in /usr/local/lib/python3.7/dist-packages (from pandas) (1.21.6)\n",
            "Requirement already satisfied: pytz>=2017.3 in /usr/local/lib/python3.7/dist-packages (from pandas) (2022.4)\n",
            "Requirement already satisfied: python-dateutil>=2.7.3 in /usr/local/lib/python3.7/dist-packages (from pandas) (2.8.2)\n",
            "Requirement already satisfied: six>=1.5 in /usr/local/lib/python3.7/dist-packages (from python-dateutil>=2.7.3->pandas) (1.15.0)\n"
          ]
        }
      ]
    },
    {
      "cell_type": "code",
      "source": [
        "df.info()"
      ],
      "metadata": {
        "colab": {
          "base_uri": "https://localhost:8080/"
        },
        "id": "skVEZ-zszGSM",
        "outputId": "80daa62a-9504-4cad-84cf-4f2d838666dc"
      },
      "execution_count": null,
      "outputs": [
        {
          "output_type": "stream",
          "name": "stdout",
          "text": [
            "<class 'pandas.core.frame.DataFrame'>\n",
            "RangeIndex: 65 entries, 0 to 64\n",
            "Data columns (total 16 columns):\n",
            " #   Column     Non-Null Count  Dtype         \n",
            "---  ------     --------------  -----         \n",
            " 0   city       65 non-null     object        \n",
            " 1   site_name  65 non-null     object        \n",
            " 2   state      65 non-null     object        \n",
            " 3   to_date    65 non-null     object        \n",
            " 4   to_time    65 non-null     object        \n",
            " 5   from_date  65 non-null     object        \n",
            " 6   from_time  65 non-null     object        \n",
            " 7   pm25       65 non-null     float64       \n",
            " 8   pm10       65 non-null     float64       \n",
            " 9   no2        65 non-null     float64       \n",
            " 10  nh3        65 non-null     float64       \n",
            " 11  so2        65 non-null     float64       \n",
            " 12  co         65 non-null     float64       \n",
            " 13  o3         65 non-null     float64       \n",
            " 14  at         65 non-null     float64       \n",
            " 15  time       65 non-null     datetime64[ns]\n",
            "dtypes: datetime64[ns](1), float64(8), object(7)\n",
            "memory usage: 8.2+ KB\n"
          ]
        }
      ]
    },
    {
      "cell_type": "code",
      "source": [
        "df.head()"
      ],
      "metadata": {
        "colab": {
          "base_uri": "https://localhost:8080/",
          "height": 206
        },
        "id": "1h2ni1H_9tQ5",
        "outputId": "f5b3be06-4566-45c9-aa37-a8d9f08046e7"
      },
      "execution_count": null,
      "outputs": [
        {
          "output_type": "execute_result",
          "data": {
            "text/plain": [
              "    city                 site_name  state     to_date   to_time   from_date  \\\n",
              "0  Delhi  Patparganj, Delhi - DPCC  Delhi  01-06-2022  04:00:00  01-06-2022   \n",
              "1  Delhi  Patparganj, Delhi - DPCC  Delhi  01-06-2022  08:00:00  01-06-2022   \n",
              "2  Delhi  Patparganj, Delhi - DPCC  Delhi  01-06-2022  12:00:00  01-06-2022   \n",
              "3  Delhi  Patparganj, Delhi - DPCC  Delhi  01-06-2022  16:00:00  01-06-2022   \n",
              "4  Delhi  Patparganj, Delhi - DPCC  Delhi  01-06-2022  20:00:00  01-06-2022   \n",
              "\n",
              "  from_time    pm25    pm10     no2    nh3    so2    co      o3     at  \\\n",
              "0  00:00:00  152.81  484.75  130.42  51.87   8.26  3.15   75.56  31.59   \n",
              "1  04:00:00  127.25  376.31  107.92  64.07  15.98  0.71   15.90  31.92   \n",
              "2  08:00:00  104.38  327.38   73.49  72.41  17.20  0.05   92.30  36.02   \n",
              "3  12:00:00   44.44  188.38   21.68  55.05   5.99  1.30  163.49  37.33   \n",
              "4  16:00:00   47.50  198.50   56.06  33.14  11.22  1.66   83.58  35.56   \n",
              "\n",
              "                 time  \n",
              "0 2022-06-01 00:00:00  \n",
              "1 2022-06-01 04:00:00  \n",
              "2 2022-06-01 08:00:00  \n",
              "3 2022-06-01 12:00:00  \n",
              "4 2022-06-01 16:00:00  "
            ],
            "text/html": [
              "\n",
              "  <div id=\"df-43a751c6-bb3a-4360-b92e-85218bc58b94\">\n",
              "    <div class=\"colab-df-container\">\n",
              "      <div>\n",
              "<style scoped>\n",
              "    .dataframe tbody tr th:only-of-type {\n",
              "        vertical-align: middle;\n",
              "    }\n",
              "\n",
              "    .dataframe tbody tr th {\n",
              "        vertical-align: top;\n",
              "    }\n",
              "\n",
              "    .dataframe thead th {\n",
              "        text-align: right;\n",
              "    }\n",
              "</style>\n",
              "<table border=\"1\" class=\"dataframe\">\n",
              "  <thead>\n",
              "    <tr style=\"text-align: right;\">\n",
              "      <th></th>\n",
              "      <th>city</th>\n",
              "      <th>site_name</th>\n",
              "      <th>state</th>\n",
              "      <th>to_date</th>\n",
              "      <th>to_time</th>\n",
              "      <th>from_date</th>\n",
              "      <th>from_time</th>\n",
              "      <th>pm25</th>\n",
              "      <th>pm10</th>\n",
              "      <th>no2</th>\n",
              "      <th>nh3</th>\n",
              "      <th>so2</th>\n",
              "      <th>co</th>\n",
              "      <th>o3</th>\n",
              "      <th>at</th>\n",
              "      <th>time</th>\n",
              "    </tr>\n",
              "  </thead>\n",
              "  <tbody>\n",
              "    <tr>\n",
              "      <th>0</th>\n",
              "      <td>Delhi</td>\n",
              "      <td>Patparganj, Delhi - DPCC</td>\n",
              "      <td>Delhi</td>\n",
              "      <td>01-06-2022</td>\n",
              "      <td>04:00:00</td>\n",
              "      <td>01-06-2022</td>\n",
              "      <td>00:00:00</td>\n",
              "      <td>152.81</td>\n",
              "      <td>484.75</td>\n",
              "      <td>130.42</td>\n",
              "      <td>51.87</td>\n",
              "      <td>8.26</td>\n",
              "      <td>3.15</td>\n",
              "      <td>75.56</td>\n",
              "      <td>31.59</td>\n",
              "      <td>2022-06-01 00:00:00</td>\n",
              "    </tr>\n",
              "    <tr>\n",
              "      <th>1</th>\n",
              "      <td>Delhi</td>\n",
              "      <td>Patparganj, Delhi - DPCC</td>\n",
              "      <td>Delhi</td>\n",
              "      <td>01-06-2022</td>\n",
              "      <td>08:00:00</td>\n",
              "      <td>01-06-2022</td>\n",
              "      <td>04:00:00</td>\n",
              "      <td>127.25</td>\n",
              "      <td>376.31</td>\n",
              "      <td>107.92</td>\n",
              "      <td>64.07</td>\n",
              "      <td>15.98</td>\n",
              "      <td>0.71</td>\n",
              "      <td>15.90</td>\n",
              "      <td>31.92</td>\n",
              "      <td>2022-06-01 04:00:00</td>\n",
              "    </tr>\n",
              "    <tr>\n",
              "      <th>2</th>\n",
              "      <td>Delhi</td>\n",
              "      <td>Patparganj, Delhi - DPCC</td>\n",
              "      <td>Delhi</td>\n",
              "      <td>01-06-2022</td>\n",
              "      <td>12:00:00</td>\n",
              "      <td>01-06-2022</td>\n",
              "      <td>08:00:00</td>\n",
              "      <td>104.38</td>\n",
              "      <td>327.38</td>\n",
              "      <td>73.49</td>\n",
              "      <td>72.41</td>\n",
              "      <td>17.20</td>\n",
              "      <td>0.05</td>\n",
              "      <td>92.30</td>\n",
              "      <td>36.02</td>\n",
              "      <td>2022-06-01 08:00:00</td>\n",
              "    </tr>\n",
              "    <tr>\n",
              "      <th>3</th>\n",
              "      <td>Delhi</td>\n",
              "      <td>Patparganj, Delhi - DPCC</td>\n",
              "      <td>Delhi</td>\n",
              "      <td>01-06-2022</td>\n",
              "      <td>16:00:00</td>\n",
              "      <td>01-06-2022</td>\n",
              "      <td>12:00:00</td>\n",
              "      <td>44.44</td>\n",
              "      <td>188.38</td>\n",
              "      <td>21.68</td>\n",
              "      <td>55.05</td>\n",
              "      <td>5.99</td>\n",
              "      <td>1.30</td>\n",
              "      <td>163.49</td>\n",
              "      <td>37.33</td>\n",
              "      <td>2022-06-01 12:00:00</td>\n",
              "    </tr>\n",
              "    <tr>\n",
              "      <th>4</th>\n",
              "      <td>Delhi</td>\n",
              "      <td>Patparganj, Delhi - DPCC</td>\n",
              "      <td>Delhi</td>\n",
              "      <td>01-06-2022</td>\n",
              "      <td>20:00:00</td>\n",
              "      <td>01-06-2022</td>\n",
              "      <td>16:00:00</td>\n",
              "      <td>47.50</td>\n",
              "      <td>198.50</td>\n",
              "      <td>56.06</td>\n",
              "      <td>33.14</td>\n",
              "      <td>11.22</td>\n",
              "      <td>1.66</td>\n",
              "      <td>83.58</td>\n",
              "      <td>35.56</td>\n",
              "      <td>2022-06-01 16:00:00</td>\n",
              "    </tr>\n",
              "  </tbody>\n",
              "</table>\n",
              "</div>\n",
              "      <button class=\"colab-df-convert\" onclick=\"convertToInteractive('df-43a751c6-bb3a-4360-b92e-85218bc58b94')\"\n",
              "              title=\"Convert this dataframe to an interactive table.\"\n",
              "              style=\"display:none;\">\n",
              "        \n",
              "  <svg xmlns=\"http://www.w3.org/2000/svg\" height=\"24px\"viewBox=\"0 0 24 24\"\n",
              "       width=\"24px\">\n",
              "    <path d=\"M0 0h24v24H0V0z\" fill=\"none\"/>\n",
              "    <path d=\"M18.56 5.44l.94 2.06.94-2.06 2.06-.94-2.06-.94-.94-2.06-.94 2.06-2.06.94zm-11 1L8.5 8.5l.94-2.06 2.06-.94-2.06-.94L8.5 2.5l-.94 2.06-2.06.94zm10 10l.94 2.06.94-2.06 2.06-.94-2.06-.94-.94-2.06-.94 2.06-2.06.94z\"/><path d=\"M17.41 7.96l-1.37-1.37c-.4-.4-.92-.59-1.43-.59-.52 0-1.04.2-1.43.59L10.3 9.45l-7.72 7.72c-.78.78-.78 2.05 0 2.83L4 21.41c.39.39.9.59 1.41.59.51 0 1.02-.2 1.41-.59l7.78-7.78 2.81-2.81c.8-.78.8-2.07 0-2.86zM5.41 20L4 18.59l7.72-7.72 1.47 1.35L5.41 20z\"/>\n",
              "  </svg>\n",
              "      </button>\n",
              "      \n",
              "  <style>\n",
              "    .colab-df-container {\n",
              "      display:flex;\n",
              "      flex-wrap:wrap;\n",
              "      gap: 12px;\n",
              "    }\n",
              "\n",
              "    .colab-df-convert {\n",
              "      background-color: #E8F0FE;\n",
              "      border: none;\n",
              "      border-radius: 50%;\n",
              "      cursor: pointer;\n",
              "      display: none;\n",
              "      fill: #1967D2;\n",
              "      height: 32px;\n",
              "      padding: 0 0 0 0;\n",
              "      width: 32px;\n",
              "    }\n",
              "\n",
              "    .colab-df-convert:hover {\n",
              "      background-color: #E2EBFA;\n",
              "      box-shadow: 0px 1px 2px rgba(60, 64, 67, 0.3), 0px 1px 3px 1px rgba(60, 64, 67, 0.15);\n",
              "      fill: #174EA6;\n",
              "    }\n",
              "\n",
              "    [theme=dark] .colab-df-convert {\n",
              "      background-color: #3B4455;\n",
              "      fill: #D2E3FC;\n",
              "    }\n",
              "\n",
              "    [theme=dark] .colab-df-convert:hover {\n",
              "      background-color: #434B5C;\n",
              "      box-shadow: 0px 1px 3px 1px rgba(0, 0, 0, 0.15);\n",
              "      filter: drop-shadow(0px 1px 2px rgba(0, 0, 0, 0.3));\n",
              "      fill: #FFFFFF;\n",
              "    }\n",
              "  </style>\n",
              "\n",
              "      <script>\n",
              "        const buttonEl =\n",
              "          document.querySelector('#df-43a751c6-bb3a-4360-b92e-85218bc58b94 button.colab-df-convert');\n",
              "        buttonEl.style.display =\n",
              "          google.colab.kernel.accessAllowed ? 'block' : 'none';\n",
              "\n",
              "        async function convertToInteractive(key) {\n",
              "          const element = document.querySelector('#df-43a751c6-bb3a-4360-b92e-85218bc58b94');\n",
              "          const dataTable =\n",
              "            await google.colab.kernel.invokeFunction('convertToInteractive',\n",
              "                                                     [key], {});\n",
              "          if (!dataTable) return;\n",
              "\n",
              "          const docLinkHtml = 'Like what you see? Visit the ' +\n",
              "            '<a target=\"_blank\" href=https://colab.research.google.com/notebooks/data_table.ipynb>data table notebook</a>'\n",
              "            + ' to learn more about interactive tables.';\n",
              "          element.innerHTML = '';\n",
              "          dataTable['output_type'] = 'display_data';\n",
              "          await google.colab.output.renderOutput(dataTable, element);\n",
              "          const docLink = document.createElement('div');\n",
              "          docLink.innerHTML = docLinkHtml;\n",
              "          element.appendChild(docLink);\n",
              "        }\n",
              "      </script>\n",
              "    </div>\n",
              "  </div>\n",
              "  "
            ]
          },
          "metadata": {},
          "execution_count": 8
        }
      ]
    },
    {
      "cell_type": "code",
      "source": [
        "df=df.drop_duplicates()\n",
        "df['pm25']=df['pm25'].replace(0,df['pm25'].mean())"
      ],
      "metadata": {
        "id": "PwFRCQ_L0bjB"
      },
      "execution_count": null,
      "outputs": []
    },
    {
      "cell_type": "code",
      "source": [
        "\n",
        "\n",
        "\n",
        "df.isnull().sum()"
      ],
      "metadata": {
        "colab": {
          "base_uri": "https://localhost:8080/"
        },
        "id": "QdmAVMs204WQ",
        "outputId": "2f0c3dc5-815d-4538-9c59-4c1ddd3f3cae"
      },
      "execution_count": null,
      "outputs": [
        {
          "output_type": "execute_result",
          "data": {
            "text/plain": [
              "city         0\n",
              "site_name    0\n",
              "state        0\n",
              "to_date      0\n",
              "to_time      0\n",
              "from_date    0\n",
              "from_time    0\n",
              "pm25         0\n",
              "pm10         0\n",
              "no2          0\n",
              "nh3          0\n",
              "so2          0\n",
              "co           0\n",
              "o3           0\n",
              "at           0\n",
              "time         0\n",
              "dtype: int64"
            ]
          },
          "metadata": {},
          "execution_count": 10
        }
      ]
    },
    {
      "cell_type": "code",
      "source": [
        "df['pm25']=df['pm25'].replace(0,df['pm25'].mean())\n",
        "df['pm10']=df['pm10'].replace(0,df['pm10'].mean())\n",
        "df['no2']=df['no2'].replace(0,df['no2'].mean())\n",
        "df['nh3']=df['nh3'].replace(0,df['nh3'].mean())\n",
        "df['o3']=df['o3'].replace(0,df['o3'].mean())\n",
        "df['so2']=df['so2'].replace(0,df['so2'].mean())\n",
        "df['so2']=df['so2'].replace(0,df['so2'].mean())\n",
        "df['so2']=df['so2'].replace(0,df['so2'].mean())\n",
        "\n",
        "\n",
        "df.describe()"
      ],
      "metadata": {
        "id": "6TvG60ja0-Xq",
        "colab": {
          "base_uri": "https://localhost:8080/",
          "height": 300
        },
        "outputId": "8cb2bc6e-21b8-4b31-cf54-762494a56ef9"
      },
      "execution_count": null,
      "outputs": [
        {
          "output_type": "execute_result",
          "data": {
            "text/plain": [
              "             pm25        pm10         no2        nh3        so2         co  \\\n",
              "count   65.000000   65.000000   65.000000  65.000000  65.000000  65.000000   \n",
              "mean    65.085846  276.161538   51.251692  34.482154   8.445077   1.320308   \n",
              "std     27.738140   92.311605   34.061242  10.777522   4.207949   0.624755   \n",
              "min     27.120000  130.250000    8.430000  19.500000   2.910000   0.050000   \n",
              "25%     43.750000  214.940000   25.050000  26.550000   5.790000   0.970000   \n",
              "50%     58.310000  258.500000   50.070000  32.330000   7.440000   1.340000   \n",
              "75%     78.690000  319.120000   66.880000  39.510000   9.460000   1.590000   \n",
              "max    152.810000  593.120000  157.880000  72.410000  21.120000   3.750000   \n",
              "\n",
              "               o3         at  \n",
              "count   65.000000  65.000000  \n",
              "mean    57.434462  35.191385  \n",
              "std     52.957130   1.901671  \n",
              "min      0.690000  31.590000  \n",
              "25%      7.450000  33.440000  \n",
              "50%     56.740000  35.390000  \n",
              "75%     89.280000  36.880000  \n",
              "max    189.430000  38.190000  "
            ],
            "text/html": [
              "\n",
              "  <div id=\"df-69978e8c-254f-4107-a119-d3d80be785e6\">\n",
              "    <div class=\"colab-df-container\">\n",
              "      <div>\n",
              "<style scoped>\n",
              "    .dataframe tbody tr th:only-of-type {\n",
              "        vertical-align: middle;\n",
              "    }\n",
              "\n",
              "    .dataframe tbody tr th {\n",
              "        vertical-align: top;\n",
              "    }\n",
              "\n",
              "    .dataframe thead th {\n",
              "        text-align: right;\n",
              "    }\n",
              "</style>\n",
              "<table border=\"1\" class=\"dataframe\">\n",
              "  <thead>\n",
              "    <tr style=\"text-align: right;\">\n",
              "      <th></th>\n",
              "      <th>pm25</th>\n",
              "      <th>pm10</th>\n",
              "      <th>no2</th>\n",
              "      <th>nh3</th>\n",
              "      <th>so2</th>\n",
              "      <th>co</th>\n",
              "      <th>o3</th>\n",
              "      <th>at</th>\n",
              "    </tr>\n",
              "  </thead>\n",
              "  <tbody>\n",
              "    <tr>\n",
              "      <th>count</th>\n",
              "      <td>65.000000</td>\n",
              "      <td>65.000000</td>\n",
              "      <td>65.000000</td>\n",
              "      <td>65.000000</td>\n",
              "      <td>65.000000</td>\n",
              "      <td>65.000000</td>\n",
              "      <td>65.000000</td>\n",
              "      <td>65.000000</td>\n",
              "    </tr>\n",
              "    <tr>\n",
              "      <th>mean</th>\n",
              "      <td>65.085846</td>\n",
              "      <td>276.161538</td>\n",
              "      <td>51.251692</td>\n",
              "      <td>34.482154</td>\n",
              "      <td>8.445077</td>\n",
              "      <td>1.320308</td>\n",
              "      <td>57.434462</td>\n",
              "      <td>35.191385</td>\n",
              "    </tr>\n",
              "    <tr>\n",
              "      <th>std</th>\n",
              "      <td>27.738140</td>\n",
              "      <td>92.311605</td>\n",
              "      <td>34.061242</td>\n",
              "      <td>10.777522</td>\n",
              "      <td>4.207949</td>\n",
              "      <td>0.624755</td>\n",
              "      <td>52.957130</td>\n",
              "      <td>1.901671</td>\n",
              "    </tr>\n",
              "    <tr>\n",
              "      <th>min</th>\n",
              "      <td>27.120000</td>\n",
              "      <td>130.250000</td>\n",
              "      <td>8.430000</td>\n",
              "      <td>19.500000</td>\n",
              "      <td>2.910000</td>\n",
              "      <td>0.050000</td>\n",
              "      <td>0.690000</td>\n",
              "      <td>31.590000</td>\n",
              "    </tr>\n",
              "    <tr>\n",
              "      <th>25%</th>\n",
              "      <td>43.750000</td>\n",
              "      <td>214.940000</td>\n",
              "      <td>25.050000</td>\n",
              "      <td>26.550000</td>\n",
              "      <td>5.790000</td>\n",
              "      <td>0.970000</td>\n",
              "      <td>7.450000</td>\n",
              "      <td>33.440000</td>\n",
              "    </tr>\n",
              "    <tr>\n",
              "      <th>50%</th>\n",
              "      <td>58.310000</td>\n",
              "      <td>258.500000</td>\n",
              "      <td>50.070000</td>\n",
              "      <td>32.330000</td>\n",
              "      <td>7.440000</td>\n",
              "      <td>1.340000</td>\n",
              "      <td>56.740000</td>\n",
              "      <td>35.390000</td>\n",
              "    </tr>\n",
              "    <tr>\n",
              "      <th>75%</th>\n",
              "      <td>78.690000</td>\n",
              "      <td>319.120000</td>\n",
              "      <td>66.880000</td>\n",
              "      <td>39.510000</td>\n",
              "      <td>9.460000</td>\n",
              "      <td>1.590000</td>\n",
              "      <td>89.280000</td>\n",
              "      <td>36.880000</td>\n",
              "    </tr>\n",
              "    <tr>\n",
              "      <th>max</th>\n",
              "      <td>152.810000</td>\n",
              "      <td>593.120000</td>\n",
              "      <td>157.880000</td>\n",
              "      <td>72.410000</td>\n",
              "      <td>21.120000</td>\n",
              "      <td>3.750000</td>\n",
              "      <td>189.430000</td>\n",
              "      <td>38.190000</td>\n",
              "    </tr>\n",
              "  </tbody>\n",
              "</table>\n",
              "</div>\n",
              "      <button class=\"colab-df-convert\" onclick=\"convertToInteractive('df-69978e8c-254f-4107-a119-d3d80be785e6')\"\n",
              "              title=\"Convert this dataframe to an interactive table.\"\n",
              "              style=\"display:none;\">\n",
              "        \n",
              "  <svg xmlns=\"http://www.w3.org/2000/svg\" height=\"24px\"viewBox=\"0 0 24 24\"\n",
              "       width=\"24px\">\n",
              "    <path d=\"M0 0h24v24H0V0z\" fill=\"none\"/>\n",
              "    <path d=\"M18.56 5.44l.94 2.06.94-2.06 2.06-.94-2.06-.94-.94-2.06-.94 2.06-2.06.94zm-11 1L8.5 8.5l.94-2.06 2.06-.94-2.06-.94L8.5 2.5l-.94 2.06-2.06.94zm10 10l.94 2.06.94-2.06 2.06-.94-2.06-.94-.94-2.06-.94 2.06-2.06.94z\"/><path d=\"M17.41 7.96l-1.37-1.37c-.4-.4-.92-.59-1.43-.59-.52 0-1.04.2-1.43.59L10.3 9.45l-7.72 7.72c-.78.78-.78 2.05 0 2.83L4 21.41c.39.39.9.59 1.41.59.51 0 1.02-.2 1.41-.59l7.78-7.78 2.81-2.81c.8-.78.8-2.07 0-2.86zM5.41 20L4 18.59l7.72-7.72 1.47 1.35L5.41 20z\"/>\n",
              "  </svg>\n",
              "      </button>\n",
              "      \n",
              "  <style>\n",
              "    .colab-df-container {\n",
              "      display:flex;\n",
              "      flex-wrap:wrap;\n",
              "      gap: 12px;\n",
              "    }\n",
              "\n",
              "    .colab-df-convert {\n",
              "      background-color: #E8F0FE;\n",
              "      border: none;\n",
              "      border-radius: 50%;\n",
              "      cursor: pointer;\n",
              "      display: none;\n",
              "      fill: #1967D2;\n",
              "      height: 32px;\n",
              "      padding: 0 0 0 0;\n",
              "      width: 32px;\n",
              "    }\n",
              "\n",
              "    .colab-df-convert:hover {\n",
              "      background-color: #E2EBFA;\n",
              "      box-shadow: 0px 1px 2px rgba(60, 64, 67, 0.3), 0px 1px 3px 1px rgba(60, 64, 67, 0.15);\n",
              "      fill: #174EA6;\n",
              "    }\n",
              "\n",
              "    [theme=dark] .colab-df-convert {\n",
              "      background-color: #3B4455;\n",
              "      fill: #D2E3FC;\n",
              "    }\n",
              "\n",
              "    [theme=dark] .colab-df-convert:hover {\n",
              "      background-color: #434B5C;\n",
              "      box-shadow: 0px 1px 3px 1px rgba(0, 0, 0, 0.15);\n",
              "      filter: drop-shadow(0px 1px 2px rgba(0, 0, 0, 0.3));\n",
              "      fill: #FFFFFF;\n",
              "    }\n",
              "  </style>\n",
              "\n",
              "      <script>\n",
              "        const buttonEl =\n",
              "          document.querySelector('#df-69978e8c-254f-4107-a119-d3d80be785e6 button.colab-df-convert');\n",
              "        buttonEl.style.display =\n",
              "          google.colab.kernel.accessAllowed ? 'block' : 'none';\n",
              "\n",
              "        async function convertToInteractive(key) {\n",
              "          const element = document.querySelector('#df-69978e8c-254f-4107-a119-d3d80be785e6');\n",
              "          const dataTable =\n",
              "            await google.colab.kernel.invokeFunction('convertToInteractive',\n",
              "                                                     [key], {});\n",
              "          if (!dataTable) return;\n",
              "\n",
              "          const docLinkHtml = 'Like what you see? Visit the ' +\n",
              "            '<a target=\"_blank\" href=https://colab.research.google.com/notebooks/data_table.ipynb>data table notebook</a>'\n",
              "            + ' to learn more about interactive tables.';\n",
              "          element.innerHTML = '';\n",
              "          dataTable['output_type'] = 'display_data';\n",
              "          await google.colab.output.renderOutput(dataTable, element);\n",
              "          const docLink = document.createElement('div');\n",
              "          docLink.innerHTML = docLinkHtml;\n",
              "          element.appendChild(docLink);\n",
              "        }\n",
              "      </script>\n",
              "    </div>\n",
              "  </div>\n",
              "  "
            ]
          },
          "metadata": {},
          "execution_count": 11
        }
      ]
    },
    {
      "cell_type": "code",
      "source": [
        "df.isnull().sum()"
      ],
      "metadata": {
        "colab": {
          "base_uri": "https://localhost:8080/"
        },
        "id": "vKf5p4uG-tM6",
        "outputId": "c42f346f-083f-446f-fd66-350a469ecab1"
      },
      "execution_count": null,
      "outputs": [
        {
          "output_type": "execute_result",
          "data": {
            "text/plain": [
              "city         0\n",
              "site_name    0\n",
              "state        0\n",
              "to_date      0\n",
              "to_time      0\n",
              "from_date    0\n",
              "from_time    0\n",
              "pm25         0\n",
              "pm10         0\n",
              "no2          0\n",
              "nh3          0\n",
              "so2          0\n",
              "co           0\n",
              "o3           0\n",
              "at           0\n",
              "time         0\n",
              "dtype: int64"
            ]
          },
          "metadata": {},
          "execution_count": 12
        }
      ]
    },
    {
      "cell_type": "markdown",
      "source": [
        "# Stationary\n",
        "\n"
      ],
      "metadata": {
        "id": "rSA3pP9i2qNh"
      }
    },
    {
      "cell_type": "code",
      "source": [
        "from pandas import datetime\n",
        "from matplotlib import pyplot\n",
        "from pandas.plotting import autocorrelation_plot"
      ],
      "metadata": {
        "id": "1pr4F5qg2vAl",
        "colab": {
          "base_uri": "https://localhost:8080/"
        },
        "outputId": "ed6381b2-099f-497d-fe54-e993325edc2b"
      },
      "execution_count": null,
      "outputs": [
        {
          "output_type": "stream",
          "name": "stderr",
          "text": [
            "/usr/local/lib/python3.7/dist-packages/ipykernel_launcher.py:1: FutureWarning: The pandas.datetime class is deprecated and will be removed from pandas in a future version. Import from datetime module instead.\n",
            "  \"\"\"Entry point for launching an IPython kernel.\n"
          ]
        }
      ]
    },
    {
      "cell_type": "code",
      "source": [
        "df1=df.loc[:,['time', 'pm10']]"
      ],
      "metadata": {
        "id": "SZNDo0wj9_bz"
      },
      "execution_count": null,
      "outputs": []
    },
    {
      "cell_type": "code",
      "source": [
        "df1.index = df1['time']\n",
        "del df1['time']\n",
        "print(df1.head())"
      ],
      "metadata": {
        "colab": {
          "base_uri": "https://localhost:8080/"
        },
        "id": "0bCd881H-ehA",
        "outputId": "7c8d9949-ec67-4d7c-886b-0276c8ab207b"
      },
      "execution_count": null,
      "outputs": [
        {
          "output_type": "stream",
          "name": "stdout",
          "text": [
            "                       pm10\n",
            "time                       \n",
            "2022-06-01 00:00:00  484.75\n",
            "2022-06-01 04:00:00  376.31\n",
            "2022-06-01 08:00:00  327.38\n",
            "2022-06-01 12:00:00  188.38\n",
            "2022-06-01 16:00:00  198.50\n"
          ]
        }
      ]
    },
    {
      "cell_type": "code",
      "source": [
        "\n",
        "df1.plot()\n",
        "pyplot.show()"
      ],
      "metadata": {
        "colab": {
          "base_uri": "https://localhost:8080/",
          "height": 285
        },
        "id": "IBzuRSVv3mEa",
        "outputId": "5e20ae40-3c50-4395-8e5a-becb827dfbe9"
      },
      "execution_count": null,
      "outputs": [
        {
          "output_type": "display_data",
          "data": {
            "text/plain": [
              "<Figure size 432x288 with 1 Axes>"
            ],
            "image/png": "[encoded data removed]"
          },
          "metadata": {
            "needs_background": "light"
          }
        }
      ]
    },
    {
      "cell_type": "code",
      "source": [
        "\n",
        "##rolling mean test for seasonality\n",
        "rm = df1.rolling(10).mean()\n",
        "rstd = df1.rolling(10).std()"
      ],
      "metadata": {
        "id": "jB6lYHhG_vL5"
      },
      "execution_count": null,
      "outputs": []
    },
    {
      "cell_type": "code",
      "source": [
        "\n",
        "## to check if the mean changes with time\n",
        "plt.plot(df1, color=\"blue\",label=\"Original pm10\")\n",
        "plt.plot(rm, color=\"red\", label=\"Rolling Mean pm 10\")\n",
        "plt.plot(rstd, color=\"black\", label = \"Rolling Standard Deviation pm10\")\n",
        "plt.title(\"AQI Time Series, Rolling Mean, Standard Deviation\")\n",
        "plt.legend(loc=\"best\")"
      ],
      "metadata": {
        "colab": {
          "base_uri": "https://localhost:8080/",
          "height": 299
        },
        "id": "kww5yq6uAH5S",
        "outputId": "97314949-dc83-4056-c2c1-17776ed81713"
      },
      "execution_count": null,
      "outputs": [
        {
          "output_type": "execute_result",
          "data": {
            "text/plain": [
              "<matplotlib.legend.Legend at 0x7f3bf72c0d50>"
            ]
          },
          "metadata": {},
          "execution_count": 17
        },
        {
          "output_type": "display_data",
          "data": {
            "text/plain": [
              "<Figure size 432x288 with 1 Axes>"
            ],
            "image/png": "[encoded data removed]"
          },
          "metadata": {
            "needs_background": "light"
          }
        }
      ]
    },
    {
      "cell_type": "code",
      "source": [
        "## Dickey fuller test\n",
        "from statsmodels.tsa.stattools import adfuller"
      ],
      "metadata": {
        "id": "P2evgnc6AsbB"
      },
      "execution_count": null,
      "outputs": []
    },
    {
      "cell_type": "code",
      "source": [
        "adft = adfuller(df1[\"pm10\"],autolag=\"AIC\")"
      ],
      "metadata": {
        "id": "RsL9rboeBRMG"
      },
      "execution_count": null,
      "outputs": []
    },
    {
      "cell_type": "code",
      "source": [
        "output_df = pd.DataFrame({\"Values\":[adft[0],adft[1],adft[2],adft[3], adft[4]['1%'], adft[4]['5%'], adft[4]['10%']]  , \"Metric\":[\"Test Statistics\",\"p-value\",\"No. of lags used\",\"Number of observations used\",\n",
        "                                                        \"critical value (1%)\", \"critical value (5%)\", \"critical value (10%)\"]})\n",
        "print(output_df)"
      ],
      "metadata": {
        "colab": {
          "base_uri": "https://localhost:8080/"
        },
        "id": "AefKVgPaEWD4",
        "outputId": "d90bcdbd-852b-4f70-b03c-5a6b977ba5d8"
      },
      "execution_count": null,
      "outputs": [
        {
          "output_type": "stream",
          "name": "stdout",
          "text": [
            "      Values                       Metric\n",
            "0  -3.104401              Test Statistics\n",
            "1   0.026229                      p-value\n",
            "2   2.000000             No. of lags used\n",
            "3  62.000000  Number of observations used\n",
            "4  -3.540523          critical value (1%)\n",
            "5  -2.909427          critical value (5%)\n",
            "6  -2.592314         critical value (10%)\n"
          ]
        }
      ]
    },
    {
      "cell_type": "code",
      "source": [
        "\n",
        "## we can conclude that the data is stationary"
      ],
      "metadata": {
        "id": "f8qQWIetEYNg"
      },
      "execution_count": null,
      "outputs": []
    },
    {
      "cell_type": "markdown",
      "source": [
        "# ACF\n",
        "\n"
      ],
      "metadata": {
        "id": "dppl8Vc2JTHb"
      }
    },
    {
      "cell_type": "code",
      "source": [
        "from statsmodels.graphics.tsaplots import plot_acf"
      ],
      "metadata": {
        "id": "NAY7mXS2k8x6"
      },
      "execution_count": null,
      "outputs": []
    },
    {
      "cell_type": "code",
      "source": [
        "## Autocorrelation function to calculate number of MA terms"
      ],
      "metadata": {
        "id": "R1LI-AinjA-J"
      },
      "execution_count": null,
      "outputs": []
    },
    {
      "cell_type": "code",
      "source": [
        "plot_acf(df1.pm10.diff().dropna())"
      ],
      "metadata": {
        "colab": {
          "base_uri": "https://localhost:8080/",
          "height": 545
        },
        "id": "u4QpMCYBJiBW",
        "outputId": "173efcc3-0d57-4bbc-f84f-3a7071197d5a"
      },
      "execution_count": null,
      "outputs": [
        {
          "output_type": "execute_result",
          "data": {
            "text/plain": [
              "<Figure size 432x288 with 1 Axes>"
            ],
            "image/png": "[encoded data removed]"
          },
          "metadata": {},
          "execution_count": 24
        },
        {
          "output_type": "display_data",
          "data": {
            "text/plain": [
              "<Figure size 432x288 with 1 Axes>"
            ],
            "image/png": "[encoded data removed]"
          },
          "metadata": {
            "needs_background": "light"
          }
        }
      ]
    },
    {
      "cell_type": "markdown",
      "source": [
        "# differencing\n"
      ],
      "metadata": {
        "id": "sIIppP2CCQJk"
      }
    },
    {
      "cell_type": "code",
      "source": [
        "# Original Series\n",
        "fig, (ax1, ax2, ax3) = plt.subplots(3)\n",
        "ax1.plot(df1.pm10); ax1.set_title('Original Series'); ax1.axes.xaxis.set_visible(False)\n",
        "# 1st Differencing\n",
        "ax2.plot(df1.pm10.diff()); ax2.set_title('1st Order Differencing'); ax2.axes.xaxis.set_visible(False)\n",
        "# 2nd Differencing\n",
        "ax3.plot(df1.pm10.diff().diff()); ax3.set_title('2nd Order Differencing')\n",
        "plt.show()"
      ],
      "metadata": {
        "id": "vZo-W4qFCSyo",
        "colab": {
          "base_uri": "https://localhost:8080/",
          "height": 281
        },
        "outputId": "e00865ef-e245-4ea7-b43e-7861de71eb5f"
      },
      "execution_count": null,
      "outputs": [
        {
          "output_type": "display_data",
          "data": {
            "text/plain": [
              "<Figure size 432x288 with 3 Axes>"
            ],
            "image/png": "[encoded data removed]"
          },
          "metadata": {
            "needs_background": "light"
          }
        }
      ]
    },
    {
      "cell_type": "markdown",
      "source": [
        "# PACF\n"
      ],
      "metadata": {
        "id": "DJ39wHkGnNmJ"
      }
    },
    {
      "cell_type": "code",
      "source": [
        "from statsmodels.graphics.tsaplots import plot_pacf\n",
        "plot_pacf(df1.pm10.diff().dropna())"
      ],
      "metadata": {
        "colab": {
          "base_uri": "https://localhost:8080/",
          "height": 545
        },
        "id": "EUwbG5MTnPRG",
        "outputId": "d595b94d-e810-4da9-aea9-2b45a98d12a1"
      },
      "execution_count": null,
      "outputs": [
        {
          "output_type": "execute_result",
          "data": {
            "text/plain": [
              "<Figure size 432x288 with 1 Axes>"
            ],
            "image/png": "[encoded data removed]"
          },
          "metadata": {},
          "execution_count": 26
        },
        {
          "output_type": "display_data",
          "data": {
            "text/plain": [
              "<Figure size 432x288 with 1 Axes>"
            ],
            "image/png": "[encoded data removed]"
          },
          "metadata": {
            "needs_background": "light"
          }
        }
      ]
    },
    {
      "cell_type": "markdown",
      "source": [
        "# ARIMA"
      ],
      "metadata": {
        "id": "427RT_u67hMC"
      }
    },
    {
      "cell_type": "code",
      "source": [
        "from statsmodels.tsa.arima_model import ARIMA\n",
        "model = ARIMA(df1.pm10, order = (1,1,0))\n",
        "model_fit = model.fit(disp=0)\n",
        "model_fit.summary()"
      ],
      "metadata": {
        "colab": {
          "base_uri": "https://localhost:8080/",
          "height": 727
        },
        "id": "X_qyqtWyNH_K",
        "outputId": "7a0d22ca-2481-4fc7-bac0-0fa711089600"
      },
      "execution_count": null,
      "outputs": [
        {
          "output_type": "stream",
          "name": "stderr",
          "text": [
            "/usr/local/lib/python3.7/dist-packages/statsmodels/tsa/arima_model.py:472: FutureWarning: \n",
            "statsmodels.tsa.arima_model.ARMA and statsmodels.tsa.arima_model.ARIMA have\n",
            "been deprecated in favor of statsmodels.tsa.arima.model.ARIMA (note the .\n",
            "between arima and model) and\n",
            "statsmodels.tsa.SARIMAX. These will be removed after the 0.12 release.\n",
            "\n",
            "statsmodels.tsa.arima.model.ARIMA makes use of the statespace framework and\n",
            "is both well tested and maintained.\n",
            "\n",
            "To silence this warning and continue using ARMA and ARIMA until they are\n",
            "removed, use:\n",
            "\n",
            "import warnings\n",
            "warnings.filterwarnings('ignore', 'statsmodels.tsa.arima_model.ARMA',\n",
            "                        FutureWarning)\n",
            "warnings.filterwarnings('ignore', 'statsmodels.tsa.arima_model.ARIMA',\n",
            "                        FutureWarning)\n",
            "\n",
            "  warnings.warn(ARIMA_DEPRECATION_WARN, FutureWarning)\n",
            "/usr/local/lib/python3.7/dist-packages/statsmodels/tsa/base/tsa_model.py:583: ValueWarning: A date index has been provided, but it has no associated frequency information and so will be ignored when e.g. forecasting.\n",
            "  ' ignored when e.g. forecasting.', ValueWarning)\n",
            "/usr/local/lib/python3.7/dist-packages/statsmodels/tsa/base/tsa_model.py:583: ValueWarning: A date index has been provided, but it has no associated frequency information and so will be ignored when e.g. forecasting.\n",
            "  ' ignored when e.g. forecasting.', ValueWarning)\n"
          ]
        },
        {
          "output_type": "execute_result",
          "data": {
            "text/plain": [
              "<class 'statsmodels.iolib.summary.Summary'>\n",
              "\"\"\"\n",
              "                             ARIMA Model Results                              \n",
              "==============================================================================\n",
              "Dep. Variable:                 D.pm10   No. Observations:                   64\n",
              "Model:                 ARIMA(1, 1, 0)   Log Likelihood                -381.227\n",
              "Method:                       css-mle   S.D. of innovations             93.412\n",
              "Date:                Wed, 12 Oct 2022   AIC                            768.454\n",
              "Time:                        04:53:18   BIC                            774.931\n",
              "Sample:                             1   HQIC                           771.006\n",
              "                                                                              \n",
              "================================================================================\n",
              "                   coef    std err          z      P>|z|      [0.025      0.975]\n",
              "--------------------------------------------------------------------------------\n",
              "const           -3.3887      9.049     -0.374      0.708     -21.124      14.347\n",
              "ar.L1.D.pm10    -0.2952      0.119     -2.471      0.013      -0.529      -0.061\n",
              "                                    Roots                                    \n",
              "=============================================================================\n",
              "                  Real          Imaginary           Modulus         Frequency\n",
              "-----------------------------------------------------------------------------\n",
              "AR.1           -3.3875           +0.0000j            3.3875            0.5000\n",
              "-----------------------------------------------------------------------------\n",
              "\"\"\""
            ],
            "text/html": [
              "<table class=\"simpletable\">\n",
              "<caption>ARIMA Model Results</caption>\n",
              "<tr>\n",
              "  <th>Dep. Variable:</th>      <td>D.pm10</td>      <th>  No. Observations:  </th>    <td>64</td>   \n",
              "</tr>\n",
              "<tr>\n",
              "  <th>Model:</th>          <td>ARIMA(1, 1, 0)</td>  <th>  Log Likelihood     </th> <td>-381.227</td>\n",
              "</tr>\n",
              "<tr>\n",
              "  <th>Method:</th>             <td>css-mle</td>     <th>  S.D. of innovations</th>  <td>93.412</td> \n",
              "</tr>\n",
              "<tr>\n",
              "  <th>Date:</th>          <td>Wed, 12 Oct 2022</td> <th>  AIC                </th>  <td>768.454</td>\n",
              "</tr>\n",
              "<tr>\n",
              "  <th>Time:</th>              <td>04:53:18</td>     <th>  BIC                </th>  <td>774.931</td>\n",
              "</tr>\n",
              "<tr>\n",
              "  <th>Sample:</th>                <td>1</td>        <th>  HQIC               </th>  <td>771.006</td>\n",
              "</tr>\n",
              "<tr>\n",
              "  <th></th>                       <td> </td>        <th>                     </th>     <td> </td>   \n",
              "</tr>\n",
              "</table>\n",
              "<table class=\"simpletable\">\n",
              "<tr>\n",
              "        <td></td>          <th>coef</th>     <th>std err</th>      <th>z</th>      <th>P>|z|</th>  <th>[0.025</th>    <th>0.975]</th>  \n",
              "</tr>\n",
              "<tr>\n",
              "  <th>const</th>        <td>   -3.3887</td> <td>    9.049</td> <td>   -0.374</td> <td> 0.708</td> <td>  -21.124</td> <td>   14.347</td>\n",
              "</tr>\n",
              "<tr>\n",
              "  <th>ar.L1.D.pm10</th> <td>   -0.2952</td> <td>    0.119</td> <td>   -2.471</td> <td> 0.013</td> <td>   -0.529</td> <td>   -0.061</td>\n",
              "</tr>\n",
              "</table>\n",
              "<table class=\"simpletable\">\n",
              "<caption>Roots</caption>\n",
              "<tr>\n",
              "    <td></td>   <th>            Real</th>  <th>         Imaginary</th> <th>         Modulus</th>  <th>        Frequency</th>\n",
              "</tr>\n",
              "<tr>\n",
              "  <th>AR.1</th> <td>          -3.3875</td> <td>          +0.0000j</td> <td>           3.3875</td> <td>           0.5000</td>\n",
              "</tr>\n",
              "</table>"
            ]
          },
          "metadata": {},
          "execution_count": 27
        }
      ]
    },
    {
      "cell_type": "code",
      "source": [
        "model_fit.plot_predict()\n",
        "plt.show()"
      ],
      "metadata": {
        "colab": {
          "base_uri": "https://localhost:8080/",
          "height": 285
        },
        "id": "-zqwj9dWoNn3",
        "outputId": "6cd48f66-cc81-4b63-e454-d6e359c84fbb"
      },
      "execution_count": null,
      "outputs": [
        {
          "output_type": "display_data",
          "data": {
            "text/plain": [
              "<Figure size 432x288 with 1 Axes>"
            ],
            "image/png": "[encoded data removed]"
          },
          "metadata": {
            "needs_background": "light"
          }
        }
      ]
    },
    {
      "cell_type": "code",
      "source": [
        "df1"
      ],
      "metadata": {
        "colab": {
          "base_uri": "https://localhost:8080/",
          "height": 455
        },
        "id": "O7JlOWyYyFT4",
        "outputId": "6f369cc2-54c5-4f71-e396-c206282404c9"
      },
      "execution_count": null,
      "outputs": [
        {
          "output_type": "execute_result",
          "data": {
            "text/plain": [
              "                       pm10\n",
              "time                       \n",
              "2022-06-01 00:00:00  484.75\n",
              "2022-06-01 04:00:00  376.31\n",
              "2022-06-01 08:00:00  327.38\n",
              "2022-06-01 12:00:00  188.38\n",
              "2022-06-01 16:00:00  198.50\n",
              "...                     ...\n",
              "2022-06-13 00:00:00  203.25\n",
              "2022-06-13 04:00:00  160.62\n",
              "2022-06-13 08:00:00  149.69\n",
              "2022-06-13 12:00:00  273.31\n",
              "2022-06-13 16:00:00  236.25\n",
              "\n",
              "[65 rows x 1 columns]"
            ],
            "text/html": [
              "\n",
              "  <div id=\"df-a3a42770-f39f-4b14-8d3a-29797810e18d\">\n",
              "    <div class=\"colab-df-container\">\n",
              "      <div>\n",
              "<style scoped>\n",
              "    .dataframe tbody tr th:only-of-type {\n",
              "        vertical-align: middle;\n",
              "    }\n",
              "\n",
              "    .dataframe tbody tr th {\n",
              "        vertical-align: top;\n",
              "    }\n",
              "\n",
              "    .dataframe thead th {\n",
              "        text-align: right;\n",
              "    }\n",
              "</style>\n",
              "<table border=\"1\" class=\"dataframe\">\n",
              "  <thead>\n",
              "    <tr style=\"text-align: right;\">\n",
              "      <th></th>\n",
              "      <th>pm10</th>\n",
              "    </tr>\n",
              "    <tr>\n",
              "      <th>time</th>\n",
              "      <th></th>\n",
              "    </tr>\n",
              "  </thead>\n",
              "  <tbody>\n",
              "    <tr>\n",
              "      <th>2022-06-01 00:00:00</th>\n",
              "      <td>484.75</td>\n",
              "    </tr>\n",
              "    <tr>\n",
              "      <th>2022-06-01 04:00:00</th>\n",
              "      <td>376.31</td>\n",
              "    </tr>\n",
              "    <tr>\n",
              "      <th>2022-06-01 08:00:00</th>\n",
              "      <td>327.38</td>\n",
              "    </tr>\n",
              "    <tr>\n",
              "      <th>2022-06-01 12:00:00</th>\n",
              "      <td>188.38</td>\n",
              "    </tr>\n",
              "    <tr>\n",
              "      <th>2022-06-01 16:00:00</th>\n",
              "      <td>198.50</td>\n",
              "    </tr>\n",
              "    <tr>\n",
              "      <th>...</th>\n",
              "      <td>...</td>\n",
              "    </tr>\n",
              "    <tr>\n",
              "      <th>2022-06-13 00:00:00</th>\n",
              "      <td>203.25</td>\n",
              "    </tr>\n",
              "    <tr>\n",
              "      <th>2022-06-13 04:00:00</th>\n",
              "      <td>160.62</td>\n",
              "    </tr>\n",
              "    <tr>\n",
              "      <th>2022-06-13 08:00:00</th>\n",
              "      <td>149.69</td>\n",
              "    </tr>\n",
              "    <tr>\n",
              "      <th>2022-06-13 12:00:00</th>\n",
              "      <td>273.31</td>\n",
              "    </tr>\n",
              "    <tr>\n",
              "      <th>2022-06-13 16:00:00</th>\n",
              "      <td>236.25</td>\n",
              "    </tr>\n",
              "  </tbody>\n",
              "</table>\n",
              "<p>65 rows × 1 columns</p>\n",
              "</div>\n",
              "      <button class=\"colab-df-convert\" onclick=\"convertToInteractive('df-a3a42770-f39f-4b14-8d3a-29797810e18d')\"\n",
              "              title=\"Convert this dataframe to an interactive table.\"\n",
              "              style=\"display:none;\">\n",
              "        \n",
              "  <svg xmlns=\"http://www.w3.org/2000/svg\" height=\"24px\"viewBox=\"0 0 24 24\"\n",
              "       width=\"24px\">\n",
              "    <path d=\"M0 0h24v24H0V0z\" fill=\"none\"/>\n",
              "    <path d=\"M18.56 5.44l.94 2.06.94-2.06 2.06-.94-2.06-.94-.94-2.06-.94 2.06-2.06.94zm-11 1L8.5 8.5l.94-2.06 2.06-.94-2.06-.94L8.5 2.5l-.94 2.06-2.06.94zm10 10l.94 2.06.94-2.06 2.06-.94-2.06-.94-.94-2.06-.94 2.06-2.06.94z\"/><path d=\"M17.41 7.96l-1.37-1.37c-.4-.4-.92-.59-1.43-.59-.52 0-1.04.2-1.43.59L10.3 9.45l-7.72 7.72c-.78.78-.78 2.05 0 2.83L4 21.41c.39.39.9.59 1.41.59.51 0 1.02-.2 1.41-.59l7.78-7.78 2.81-2.81c.8-.78.8-2.07 0-2.86zM5.41 20L4 18.59l7.72-7.72 1.47 1.35L5.41 20z\"/>\n",
              "  </svg>\n",
              "      </button>\n",
              "      \n",
              "  <style>\n",
              "    .colab-df-container {\n",
              "      display:flex;\n",
              "      flex-wrap:wrap;\n",
              "      gap: 12px;\n",
              "    }\n",
              "\n",
              "    .colab-df-convert {\n",
              "      background-color: #E8F0FE;\n",
              "      border: none;\n",
              "      border-radius: 50%;\n",
              "      cursor: pointer;\n",
              "      display: none;\n",
              "      fill: #1967D2;\n",
              "      height: 32px;\n",
              "      padding: 0 0 0 0;\n",
              "      width: 32px;\n",
              "    }\n",
              "\n",
              "    .colab-df-convert:hover {\n",
              "      background-color: #E2EBFA;\n",
              "      box-shadow: 0px 1px 2px rgba(60, 64, 67, 0.3), 0px 1px 3px 1px rgba(60, 64, 67, 0.15);\n",
              "      fill: #174EA6;\n",
              "    }\n",
              "\n",
              "    [theme=dark] .colab-df-convert {\n",
              "      background-color: #3B4455;\n",
              "      fill: #D2E3FC;\n",
              "    }\n",
              "\n",
              "    [theme=dark] .colab-df-convert:hover {\n",
              "      background-color: #434B5C;\n",
              "      box-shadow: 0px 1px 3px 1px rgba(0, 0, 0, 0.15);\n",
              "      filter: drop-shadow(0px 1px 2px rgba(0, 0, 0, 0.3));\n",
              "      fill: #FFFFFF;\n",
              "    }\n",
              "  </style>\n",
              "\n",
              "      <script>\n",
              "        const buttonEl =\n",
              "          document.querySelector('#df-a3a42770-f39f-4b14-8d3a-29797810e18d button.colab-df-convert');\n",
              "        buttonEl.style.display =\n",
              "          google.colab.kernel.accessAllowed ? 'block' : 'none';\n",
              "\n",
              "        async function convertToInteractive(key) {\n",
              "          const element = document.querySelector('#df-a3a42770-f39f-4b14-8d3a-29797810e18d');\n",
              "          const dataTable =\n",
              "            await google.colab.kernel.invokeFunction('convertToInteractive',\n",
              "                                                     [key], {});\n",
              "          if (!dataTable) return;\n",
              "\n",
              "          const docLinkHtml = 'Like what you see? Visit the ' +\n",
              "            '<a target=\"_blank\" href=https://colab.research.google.com/notebooks/data_table.ipynb>data table notebook</a>'\n",
              "            + ' to learn more about interactive tables.';\n",
              "          element.innerHTML = '';\n",
              "          dataTable['output_type'] = 'display_data';\n",
              "          await google.colab.output.renderOutput(dataTable, element);\n",
              "          const docLink = document.createElement('div');\n",
              "          docLink.innerHTML = docLinkHtml;\n",
              "          element.appendChild(docLink);\n",
              "        }\n",
              "      </script>\n",
              "    </div>\n",
              "  </div>\n",
              "  "
            ]
          },
          "metadata": {},
          "execution_count": 29
        }
      ]
    },
    {
      "cell_type": "code",
      "source": [
        "train=df1[:55]\n",
        "test=df1[55:]"
      ],
      "metadata": {
        "id": "pzQlPmHfo31E"
      },
      "execution_count": null,
      "outputs": []
    },
    {
      "cell_type": "code",
      "source": [
        "model1 = ARIMA(train.pm10, order = (1,1,0))"
      ],
      "metadata": {
        "colab": {
          "base_uri": "https://localhost:8080/"
        },
        "id": "xLwwejwV8hpT",
        "outputId": "a6dd6602-c625-4a51-b899-ca414ad3cfa6"
      },
      "execution_count": null,
      "outputs": [
        {
          "output_type": "stream",
          "name": "stderr",
          "text": [
            "/usr/local/lib/python3.7/dist-packages/statsmodels/tsa/arima_model.py:472: FutureWarning: \n",
            "statsmodels.tsa.arima_model.ARMA and statsmodels.tsa.arima_model.ARIMA have\n",
            "been deprecated in favor of statsmodels.tsa.arima.model.ARIMA (note the .\n",
            "between arima and model) and\n",
            "statsmodels.tsa.SARIMAX. These will be removed after the 0.12 release.\n",
            "\n",
            "statsmodels.tsa.arima.model.ARIMA makes use of the statespace framework and\n",
            "is both well tested and maintained.\n",
            "\n",
            "To silence this warning and continue using ARMA and ARIMA until they are\n",
            "removed, use:\n",
            "\n",
            "import warnings\n",
            "warnings.filterwarnings('ignore', 'statsmodels.tsa.arima_model.ARMA',\n",
            "                        FutureWarning)\n",
            "warnings.filterwarnings('ignore', 'statsmodels.tsa.arima_model.ARIMA',\n",
            "                        FutureWarning)\n",
            "\n",
            "  warnings.warn(ARIMA_DEPRECATION_WARN, FutureWarning)\n",
            "/usr/local/lib/python3.7/dist-packages/statsmodels/tsa/base/tsa_model.py:583: ValueWarning: A date index has been provided, but it has no associated frequency information and so will be ignored when e.g. forecasting.\n",
            "  ' ignored when e.g. forecasting.', ValueWarning)\n",
            "/usr/local/lib/python3.7/dist-packages/statsmodels/tsa/base/tsa_model.py:583: ValueWarning: A date index has been provided, but it has no associated frequency information and so will be ignored when e.g. forecasting.\n",
            "  ' ignored when e.g. forecasting.', ValueWarning)\n"
          ]
        }
      ]
    },
    {
      "cell_type": "code",
      "source": [
        "model1"
      ],
      "metadata": {
        "id": "44FO4HJPy-jb",
        "outputId": "36861433-114b-4538-e4f7-4c72116238cc",
        "colab": {
          "base_uri": "https://localhost:8080/"
        }
      },
      "execution_count": null,
      "outputs": [
        {
          "output_type": "execute_result",
          "data": {
            "text/plain": [
              "<statsmodels.tsa.arima_model.ARIMA at 0x7f3bf2bd0790>"
            ]
          },
          "metadata": {},
          "execution_count": 32
        }
      ]
    },
    {
      "cell_type": "code",
      "source": [
        "start = len(train)\n",
        "\n",
        "end = len(train)+len(test)-1"
      ],
      "metadata": {
        "id": "jC75v-V1-J8f"
      },
      "execution_count": null,
      "outputs": []
    },
    {
      "cell_type": "code",
      "source": [
        "\n",
        "model1 =model1.fit()"
      ],
      "metadata": {
        "id": "BSnuRLW6AHC8"
      },
      "execution_count": null,
      "outputs": []
    },
    {
      "cell_type": "code",
      "source": [
        "pred=model1.predict(start=start ,end=end)"
      ],
      "metadata": {
        "colab": {
          "base_uri": "https://localhost:8080/"
        },
        "id": "wh8NTCfK800B",
        "outputId": "8219d8d1-7a69-499d-f03c-f5e483975934"
      },
      "execution_count": null,
      "outputs": [
        {
          "output_type": "stream",
          "name": "stderr",
          "text": [
            "/usr/local/lib/python3.7/dist-packages/statsmodels/tsa/base/tsa_model.py:379: ValueWarning: No supported index is available. Prediction results will be given with an integer index beginning at `start`.\n",
            "  ValueWarning)\n"
          ]
        }
      ]
    },
    {
      "cell_type": "code",
      "source": [
        "pred"
      ],
      "metadata": {
        "colab": {
          "base_uri": "https://localhost:8080/"
        },
        "id": "ZCj_N-p2y1-a",
        "outputId": "81767bf6-8cb1-40de-cc10-0a8ac9f5fb31"
      },
      "execution_count": null,
      "outputs": [
        {
          "output_type": "execute_result",
          "data": {
            "text/plain": [
              "54    9.235830\n",
              "55   -7.538940\n",
              "56   -2.622563\n",
              "57   -4.063462\n",
              "58   -3.641161\n",
              "59   -3.764930\n",
              "60   -3.728656\n",
              "61   -3.739287\n",
              "62   -3.736171\n",
              "63   -3.737084\n",
              "dtype: float64"
            ]
          },
          "metadata": {},
          "execution_count": 36
        }
      ]
    },
    {
      "cell_type": "code",
      "source": [
        "from sklearn.metrics import  mean_squared_error"
      ],
      "metadata": {
        "id": "3FBKQ9Gn9O5Q"
      },
      "execution_count": null,
      "outputs": []
    },
    {
      "cell_type": "code",
      "source": [
        "error=np.sqrt(mean_squared_error(test,pred))"
      ],
      "metadata": {
        "id": "COuw5YSrAegB"
      },
      "execution_count": null,
      "outputs": []
    },
    {
      "cell_type": "code",
      "source": [
        "print(error)"
      ],
      "metadata": {
        "colab": {
          "base_uri": "https://localhost:8080/"
        },
        "id": "K-mO17tRAoqK",
        "outputId": "11bd286a-0883-4f80-bd2f-91a9b42be006"
      },
      "execution_count": null,
      "outputs": [
        {
          "output_type": "stream",
          "name": "stdout",
          "text": [
            "246.78994587975407\n"
          ]
        }
      ]
    }
  ]
}